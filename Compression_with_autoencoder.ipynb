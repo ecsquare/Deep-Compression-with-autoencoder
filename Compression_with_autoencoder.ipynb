{
  "nbformat": 4,
  "nbformat_minor": 0,
  "metadata": {
    "colab": {
      "name": "Compression_with_autoencoder",
      "provenance": [],
      "collapsed_sections": [],
      "include_colab_link": true
    },
    "kernelspec": {
      "name": "python3",
      "display_name": "Python 3"
    }
  },
  "cells": [
    {
      "cell_type": "markdown",
      "metadata": {
        "id": "view-in-github",
        "colab_type": "text"
      },
      "source": [
        "<a href=\"https://colab.research.google.com/github/ecsquare/Deep-Compression-with-autoencoder/blob/master/Compression_with_autoencoder.ipynb\" target=\"_parent\"><img src=\"https://colab.research.google.com/assets/colab-badge.svg\" alt=\"Open In Colab\"/></a>"
      ]
    },
    {
      "cell_type": "code",
      "metadata": {
        "id": "LYnLTdcU8pol",
        "colab_type": "code",
        "colab": {}
      },
      "source": [
        "import matplotlib.pyplot as plt\n",
        "%matplotlib inline\n",
        "import numpy as np\n",
        "import random"
      ],
      "execution_count": 0,
      "outputs": []
    },
    {
      "cell_type": "markdown",
      "metadata": {
        "id": "3RerPjmB83yP",
        "colab_type": "text"
      },
      "source": [
        "Load the MNIST Dataset"
      ]
    },
    {
      "cell_type": "code",
      "metadata": {
        "id": "FSF2lF5O8zoY",
        "colab_type": "code",
        "colab": {
          "base_uri": "https://localhost:8080/",
          "height": 34
        },
        "outputId": "50baa1e5-7fa1-4a95-f2b9-6d2d754253fc"
      },
      "source": [
        "from keras.datasets import mnist\n",
        "from keras.utils import np_utils\n",
        "(X_train, y_train), (X_test, y_test) = mnist.load_data()\n",
        "X_train.shape"
      ],
      "execution_count": 57,
      "outputs": [
        {
          "output_type": "execute_result",
          "data": {
            "text/plain": [
              "(60000, 28, 28)"
            ]
          },
          "metadata": {
            "tags": []
          },
          "execution_count": 57
        }
      ]
    },
    {
      "cell_type": "code",
      "metadata": {
        "id": "2JySrJoQ9qCK",
        "colab_type": "code",
        "colab": {}
      },
      "source": [
        "X_train = X_train.reshape(60000, 784)\n",
        "X_test = X_test.reshape(10000, 784)\n",
        "X_train = X_train.astype(\"float32\")\n",
        "X_test = X_test.astype(\"float32\")"
      ],
      "execution_count": 0,
      "outputs": []
    },
    {
      "cell_type": "markdown",
      "metadata": {
        "id": "Zzxi5d3gVf-j",
        "colab_type": "text"
      },
      "source": [
        "Salt-and-pepper noise is a form of noise sometimes seen on images. It is also known as impulse noise. This noise can be caused by sharp and sudden disturbances in the image signal. It presents itself as sparsely occurring white and black pixels. An effective noise reduction method for this type of noise is a median filter or a morphological filter.For reducing either salt noise or pepper noise, but not both, a contraharmonic mean filter can be effective.\n",
        "\n"
      ]
    },
    {
      "cell_type": "code",
      "metadata": {
        "id": "k4kTlx9IVaQG",
        "colab_type": "code",
        "colab": {}
      },
      "source": [
        "def sp_noise(arr,prob):\n",
        "    '''\n",
        "    Add salt and pepper noise to image\n",
        "    prob: Probability of the noise\n",
        "    '''\n",
        "    output = np.zeros(784)\n",
        "    thres = 1 - prob \n",
        "    for i in range(784):\n",
        "        rdn = random.random()\n",
        "        if rdn < prob:\n",
        "          output[i] = 0\n",
        "        elif rdn > thres:\n",
        "          output[i] = 1\n",
        "        else:\n",
        "          output[i] = arr[i]\n",
        "    return output"
      ],
      "execution_count": 0,
      "outputs": []
    },
    {
      "cell_type": "code",
      "metadata": {
        "id": "GcJunVHnYF_J",
        "colab_type": "code",
        "colab": {}
      },
      "source": [
        "a=sp_noise(X_train[0],0.2)"
      ],
      "execution_count": 0,
      "outputs": []
    },
    {
      "cell_type": "markdown",
      "metadata": {
        "id": "wUP8lcCPUv0T",
        "colab_type": "text"
      },
      "source": [
        "Let's see some dataset elements before and after noise \n"
      ]
    },
    {
      "cell_type": "code",
      "metadata": {
        "id": "3SqSmvT_ZbB5",
        "colab_type": "code",
        "colab": {
          "base_uri": "https://localhost:8080/",
          "height": 216
        },
        "outputId": "de46b682-f544-4596-c2fc-c7b5f3cf34a3"
      },
      "source": [
        "\n",
        "plt.subplot(121)\n",
        "plt.imshow(a.reshape(28, 28), cmap=plt.get_cmap('gray'), vmin=0, vmax=1)\n",
        "plt.title(\"image with noise\")\n",
        " \n",
        " \n",
        "plt.subplot(122)\n",
        "plt.imshow(X_train[0].reshape(28, 28), cmap=plt.get_cmap('gray'), vmin=0, vmax=1)\n",
        "plt.title(\"Original image\")\n",
        "\n",
        "# Show the graph\n",
        "plt.show()"
      ],
      "execution_count": 73,
      "outputs": [
        {
          "output_type": "display_data",
          "data": {
            "image/png": "[encoded data removed]",
            "text/plain": [
              "<Figure size 432x288 with 2 Axes>"
            ]
          },
          "metadata": {
            "tags": []
          }
        }
      ]
    },
    {
      "cell_type": "code",
      "metadata": {
        "id": "rvLiQUKGZ8EA",
        "colab_type": "code",
        "colab": {}
      },
      "source": [
        ""
      ],
      "execution_count": 0,
      "outputs": []
    },
    {
      "cell_type": "code",
      "metadata": {
        "id": "tmxeji5-PO_E",
        "colab_type": "code",
        "colab": {}
      },
      "source": [
        ""
      ],
      "execution_count": 0,
      "outputs": []
    },
    {
      "cell_type": "markdown",
      "metadata": {
        "id": "zZwLTk2PJut7",
        "colab_type": "text"
      },
      "source": [
        ""
      ]
    }
  ]
}