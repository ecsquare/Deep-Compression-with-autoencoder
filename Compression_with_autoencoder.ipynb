{
  "nbformat": 4,
  "nbformat_minor": 0,
  "metadata": {
    "colab": {
      "name": "Compression_with_autoencoder",
      "provenance": [],
      "collapsed_sections": [],
      "include_colab_link": true
    },
    "kernelspec": {
      "name": "python3",
      "display_name": "Python 3"
    },
    "accelerator": "GPU"
  },
  "cells": [
    {
      "cell_type": "markdown",
      "metadata": {
        "id": "view-in-github",
        "colab_type": "text"
      },
      "source": [
        "<a href=\"https://colab.research.google.com/github/ecsquare/Deep-Compression-with-autoencoder/blob/master/Compression_with_autoencoder.ipynb\" target=\"_parent\"><img src=\"https://colab.research.google.com/assets/colab-badge.svg\" alt=\"Open In Colab\"/></a>"
      ]
    },
    {
      "cell_type": "markdown",
      "metadata": {
        "id": "DGeKkSLV3BW5",
        "colab_type": "text"
      },
      "source": [
        "#In addition to the implementation of deep encoder we will study the effect of different distorsions and noise on the training of this model. In our case we will study two types of noise \n",
        "\n",
        "\n",
        "1.   Salt & pepper\n",
        "2.   Speckle\n",
        "\n"
      ]
    },
    {
      "cell_type": "code",
      "metadata": {
        "id": "LYnLTdcU8pol",
        "colab_type": "code",
        "colab": {}
      },
      "source": [
        "import matplotlib.pyplot as plt\n",
        "%matplotlib inline\n",
        "import numpy as np\n",
        "import random\n",
        "from keras.layers import Input, Dense\n",
        "from keras.models import Model\n",
        "from keras.callbacks import ModelCheckpoint\n",
        "from keras.utils import plot_model\n",
        "import math"
      ],
      "execution_count": 0,
      "outputs": []
    },
    {
      "cell_type": "code",
      "metadata": {
        "id": "BxljS6Ln6mzR",
        "colab_type": "code",
        "colab": {}
      },
      "source": [
        "from google.colab import drive\n",
        "drive.mount('/content/gdrive')"
      ],
      "execution_count": 0,
      "outputs": []
    },
    {
      "cell_type": "markdown",
      "metadata": {
        "id": "_yK8PZ8b3iUw",
        "colab_type": "text"
      },
      "source": [
        "<h1> 1-Data processing </h1>"
      ]
    },
    {
      "cell_type": "markdown",
      "metadata": {
        "id": "3RerPjmB83yP",
        "colab_type": "text"
      },
      "source": [
        "Load the MNIST Dataset"
      ]
    },
    {
      "cell_type": "code",
      "metadata": {
        "id": "FSF2lF5O8zoY",
        "colab_type": "code",
        "colab": {
          "base_uri": "https://localhost:8080/",
          "height": 52
        },
        "outputId": "5c023021-ac71-4303-c1f7-3006938ee3e4"
      },
      "source": [
        "from keras.datasets import mnist\n",
        "from keras.utils import np_utils\n",
        "(X_train, y_train), (X_test, y_test) = mnist.load_data()"
      ],
      "execution_count": 4,
      "outputs": [
        {
          "output_type": "stream",
          "text": [
            "Downloading data from https://s3.amazonaws.com/img-datasets/mnist.npz\n",
            "11493376/11490434 [==============================] - 0s 0us/step\n"
          ],
          "name": "stdout"
        }
      ]
    },
    {
      "cell_type": "code",
      "metadata": {
        "id": "iGcMttWK4CXd",
        "colab_type": "code",
        "outputId": "f7cd22ec-464f-4f17-ce42-e539081cc05f",
        "colab": {
          "base_uri": "https://localhost:8080/",
          "height": 34
        }
      },
      "source": [
        "X_train.shape"
      ],
      "execution_count": 5,
      "outputs": [
        {
          "output_type": "execute_result",
          "data": {
            "text/plain": [
              "(60000, 28, 28)"
            ]
          },
          "metadata": {
            "tags": []
          },
          "execution_count": 5
        }
      ]
    },
    {
      "cell_type": "code",
      "metadata": {
        "id": "hPzKPx0r4FmU",
        "colab_type": "code",
        "outputId": "da0dadb2-04d5-4889-9da6-e775916cb6d1",
        "colab": {
          "base_uri": "https://localhost:8080/",
          "height": 34
        }
      },
      "source": [
        "X_test.shape"
      ],
      "execution_count": 6,
      "outputs": [
        {
          "output_type": "execute_result",
          "data": {
            "text/plain": [
              "(10000, 28, 28)"
            ]
          },
          "metadata": {
            "tags": []
          },
          "execution_count": 6
        }
      ]
    },
    {
      "cell_type": "code",
      "metadata": {
        "id": "2JySrJoQ9qCK",
        "colab_type": "code",
        "colab": {}
      },
      "source": [
        "X_train = X_train.reshape(60000, 784)\n",
        "X_test = X_test.reshape(10000, 784)\n",
        "X_train = X_train.astype(\"float32\")\n",
        "X_test = X_test.astype(\"float32\")\n",
        "# Normalisation\n",
        "X_train /= 255\n",
        "X_test /= 255"
      ],
      "execution_count": 0,
      "outputs": []
    },
    {
      "cell_type": "markdown",
      "metadata": {
        "id": "zZwLTk2PJut7",
        "colab_type": "text"
      },
      "source": [
        "<h1> 2.Build Deep autoencoder model <h1>"
      ]
    },
    {
      "cell_type": "code",
      "metadata": {
        "id": "Z1KFCu47n8uz",
        "colab_type": "code",
        "colab": {}
      },
      "source": [
        "input_img = Input(shape=(784,))\n",
        "encoded = Dense(128, activation='relu')(input_img)\n",
        "encoded = Dense(64, activation='relu')(encoded)\n",
        "encoded = Dense(32, activation='relu')(encoded)\n",
        "decoded = Dense(64, activation='relu')(encoded)\n",
        "decoded = Dense(128, activation='relu')(decoded)\n",
        "decoded = Dense(784, activation='sigmoid')(decoded)\n",
        "autoencoder = Model(input_img, decoded)\n",
        "autoencoder.compile(optimizer='adadelta', loss='binary_crossentropy')"
      ],
      "execution_count": 0,
      "outputs": []
    },
    {
      "cell_type": "code",
      "metadata": {
        "id": "XBEWCvWZKZWP",
        "colab_type": "code",
        "outputId": "06ae6759-5e0f-4407-f4b5-bcca8ed9a3ab",
        "colab": {
          "base_uri": "https://localhost:8080/",
          "height": 661
        }
      },
      "source": [
        "plot_model(autoencoder, to_file='model.png')"
      ],
      "execution_count": 9,
      "outputs": [
        {
          "output_type": "execute_result",
          "data": {
            "image/png": "[encoded data removed]",
            "text/plain": [
              "<IPython.core.display.Image object>"
            ]
          },
          "metadata": {
            "tags": []
          },
          "execution_count": 9
        }
      ]
    },
    {
      "cell_type": "markdown",
      "metadata": {
        "id": "MkhDKi5x4chU",
        "colab_type": "text"
      },
      "source": [
        "<h1> 3-Training the model </h1>"
      ]
    },
    {
      "cell_type": "markdown",
      "metadata": {
        "id": "I1Y83EZT2BR4",
        "colab_type": "text"
      },
      "source": [
        "<h2> 3.1-Training on original dataset </h2>\n",
        "\n",
        "\n"
      ]
    },
    {
      "cell_type": "code",
      "metadata": {
        "id": "wua8Qd_ToUix",
        "colab_type": "code",
        "colab": {}
      },
      "source": [
        "checkpointer = ModelCheckpoint('/content/gdrive/My Drive/Colab Notebooks/checks_autoencoder/model-{epoch:02d}.hdf5', verbose=1)\n",
        "callbacks_list=[checkpointer]\n",
        "autoencoder.fit(X_train, X_train,\n",
        "                epochs=100,\n",
        "                batch_size=256,\n",
        "                shuffle=True,\n",
        "                validation_data=(X_test, X_test),\n",
        "                callbacks=callbacks_list)"
      ],
      "execution_count": 0,
      "outputs": []
    },
    {
      "cell_type": "markdown",
      "metadata": {
        "id": "tRVim4FW5P_U",
        "colab_type": "text"
      },
      "source": [
        "Plot training & validation loss values\n"
      ]
    },
    {
      "cell_type": "code",
      "metadata": {
        "id": "yXQ-PGRSKhPw",
        "colab_type": "code",
        "outputId": "f09bb4c9-7e61-4bc7-db26-45895304c752",
        "colab": {
          "base_uri": "https://localhost:8080/",
          "height": 295
        }
      },
      "source": [
        "plt.plot(autoencoder.history.history['loss'])\n",
        "plt.plot(autoencoder.history.history['val_loss'])\n",
        "plt.title('Model loss')\n",
        "plt.ylabel('Loss')\n",
        "plt.xlabel('Epoch')\n",
        "plt.legend(['Train', 'Test'], loc='upper left')\n",
        "plt.show()\n"
      ],
      "execution_count": 11,
      "outputs": [
        {
          "output_type": "display_data",
          "data": {
            "image/png": "[encoded data removed]",
            "text/plain": [
              "<Figure size 432x288 with 1 Axes>"
            ]
          },
          "metadata": {
            "tags": []
          }
        }
      ]
    },
    {
      "cell_type": "code",
      "metadata": {
        "id": "u_JKkFuM-bix",
        "colab_type": "code",
        "colab": {
          "base_uri": "https://localhost:8080/",
          "height": 217
        },
        "outputId": "9dcc1dfd-c031-4fa0-b607-d0c12c5596de"
      },
      "source": [
        "decoded_imgs = autoencoder.predict(X_test)\n",
        "n = 20\n",
        "plt.figure(figsize=(20, 4))\n",
        "for i in range(1,n):\n",
        "    # display original\n",
        "    ax = plt.subplot(2, n, i)\n",
        "    plt.imshow(X_test[i].reshape(28, 28), cmap=plt.get_cmap('gray'), vmin=0, vmax=1)\n",
        "\n",
        "\n",
        "    # display reconstruction\n",
        "    ax = plt.subplot(2, n, i + n)\n",
        "    plt.imshow(decoded_imgs[i].reshape(28, 28), cmap=plt.get_cmap('gray'), vmin=0, vmax=1)\n",
        "   \n",
        "plt.show()"
      ],
      "execution_count": 12,
      "outputs": [
        {
          "output_type": "display_data",
          "data": {
            "image/png": "[encoded data removed]",
            "text/plain": [
              "<Figure size 1440x288 with 38 Axes>"
            ]
          },
          "metadata": {
            "tags": []
          }
        }
      ]
    },
    {
      "cell_type": "markdown",
      "metadata": {
        "id": "6ODlj-iG_E_H",
        "colab_type": "text"
      },
      "source": [
        "#PSNR\n",
        "Peak signal-to-noise ratio its the way to refer at the maximun difference between an original signal and its noise-affected version\n"
      ]
    },
    {
      "cell_type": "code",
      "metadata": {
        "id": "O9gSPKK098Mp",
        "colab_type": "code",
        "colab": {}
      },
      "source": [
        "def psnr(img1, img2):\n",
        "    mse = np.mean( (img1 - img2) ** 2 )\n",
        "    if mse == 0:\n",
        "        return 100\n",
        "    PIXEL_MAX = 255.0\n",
        "    return 20 * math.log10(PIXEL_MAX / math.sqrt(mse))"
      ],
      "execution_count": 0,
      "outputs": []
    },
    {
      "cell_type": "code",
      "metadata": {
        "id": "o_KIZbza-fKt",
        "colab_type": "code",
        "colab": {}
      },
      "source": [
        "d=[]\n",
        "for i in range(20):\n",
        "    d.append(psnr(X_test[i],decoded_imgs[i]))\n",
        "print(d)\n",
        "pyplot.bar(range(20),d, width = 0.5, color = 'red')\n"
      ],
      "execution_count": 0,
      "outputs": []
    },
    {
      "cell_type": "code",
      "metadata": {
        "id": "CnalhPLtC2Lv",
        "colab_type": "code",
        "colab": {
          "base_uri": "https://localhost:8080/",
          "height": 34
        },
        "outputId": "209fd741-99c5-4ff4-ac84-7474ba05e2e0"
      },
      "source": [
        "from skimage.metrics import structural_similarity as ssim\n",
        "img1=X_test[0]\n",
        "image=X_test[0]\n",
        "ssim_noise=ssim(img1,image, data=img1.max()-image.min())\n"
      ],
      "execution_count": 24,
      "outputs": [
        {
          "output_type": "stream",
          "text": [
            "1.0\n"
          ],
          "name": "stdout"
        }
      ]
    },
    {
      "cell_type": "markdown",
      "metadata": {
        "id": "03Agh5QF5ba_",
        "colab_type": "text"
      },
      "source": [
        "<h2> 3-2 Training on dataset+ noise Salt&pepper <h2>"
      ]
    },
    {
      "cell_type": "markdown",
      "metadata": {
        "id": "Zzxi5d3gVf-j",
        "colab_type": "text"
      },
      "source": [
        "But first what is salt&pepper noise? <br>\n",
        "Salt-and-pepper also known as impulse noise. This noise can be caused by sharp and sudden disturbances in the image signal. It presents itself as sparsely occurring white and black pixels.\n",
        "\n",
        "\n",
        "\n"
      ]
    },
    {
      "cell_type": "code",
      "metadata": {
        "id": "k4kTlx9IVaQG",
        "colab_type": "code",
        "colab": {}
      },
      "source": [
        "def saltpepper_noise(arr,prob):\n",
        "    '''\n",
        "    Add salt and pepper noise to image\n",
        "    prob: Probability of the noise\n",
        "    '''\n",
        "    output = np.zeros(784)\n",
        "    thres = 1 - prob \n",
        "    for i in range(784):\n",
        "        rdn = random.random()\n",
        "        if rdn < prob:\n",
        "          output[i] = 0\n",
        "        elif rdn > thres:\n",
        "          output[i] = 1\n",
        "        else:\n",
        "          output[i] = arr[i]\n",
        "    return output"
      ],
      "execution_count": 0,
      "outputs": []
    },
    {
      "cell_type": "markdown",
      "metadata": {
        "id": "JTUSXjrN5_PG",
        "colab_type": "text"
      },
      "source": [
        "Add noise to the dataset"
      ]
    },
    {
      "cell_type": "code",
      "metadata": {
        "id": "rvLiQUKGZ8EA",
        "colab_type": "code",
        "colab": {}
      },
      "source": [
        "def prepare_data_salt_pepper(data,prob):\n",
        "  output = np.zeros(data.shape)\n",
        "  for i in range(len(data)):\n",
        "    output[i]=saltpepper_noise(data[i],prob)\n",
        "  return output"
      ],
      "execution_count": 0,
      "outputs": []
    },
    {
      "cell_type": "markdown",
      "metadata": {
        "id": "CKodkx6i6Icf",
        "colab_type": "text"
      },
      "source": [
        "Prepare train and test dataset with p=0.1"
      ]
    },
    {
      "cell_type": "code",
      "metadata": {
        "id": "dPEvVb7NbMMX",
        "colab_type": "code",
        "colab": {}
      },
      "source": [
        "X_train_salt_pepper=prepare_data_salt_pepper(X_train,0.1)\n",
        "X_test_salt_pepper=prepare_data_salt_pepper(X_test,0.1)"
      ],
      "execution_count": 0,
      "outputs": []
    },
    {
      "cell_type": "markdown",
      "metadata": {
        "id": "wUP8lcCPUv0T",
        "colab_type": "text"
      },
      "source": [
        "Let's see some dataset elements before and after noise \n"
      ]
    },
    {
      "cell_type": "code",
      "metadata": {
        "id": "3SqSmvT_ZbB5",
        "colab_type": "code",
        "colab": {}
      },
      "source": [
        "plt.subplot(121)\n",
        "plt.imshow(X_train_salt_pepper[0].reshape(28, 28), cmap=plt.get_cmap('gray'), vmin=0, vmax=1)\n",
        "plt.title(\"image with noise\")\n",
        " \n",
        "plt.subplot(122)\n",
        "plt.imshow(X_train[0].reshape(28, 28), cmap=plt.get_cmap('gray'), vmin=0, vmax=1)\n",
        "plt.title(\"Original image\")\n",
        "\n",
        "# Show the graph\n",
        "plt.show()"
      ],
      "execution_count": 0,
      "outputs": []
    },
    {
      "cell_type": "markdown",
      "metadata": {
        "id": "YiXtpY3a6Vwy",
        "colab_type": "text"
      },
      "source": [
        "Train the model with this new data"
      ]
    },
    {
      "cell_type": "code",
      "metadata": {
        "id": "sWFi6P6lvunE",
        "colab_type": "code",
        "colab": {}
      },
      "source": [
        "checkpointer = ModelCheckpoint('/content/gdrive/My Drive/Colab Notebooks/checks_autoencoder_salt_pepper/model-{epoch:02d}.hdf5', verbose=1)\n",
        "callbacks_list=[checkpointer]\n",
        "autoencoder.fit(X_train_salt_pepper, X_train_salt_pepper,\n",
        "                epochs=100,\n",
        "                batch_size=256,\n",
        "                shuffle=True,\n",
        "                validation_data=(X_test_salt_pepper, X_test_salt_pepper),\n",
        "                callbacks=callbacks_list)\n"
      ],
      "execution_count": 0,
      "outputs": []
    },
    {
      "cell_type": "markdown",
      "metadata": {
        "id": "C140jZUE626B",
        "colab_type": "text"
      },
      "source": [
        "Show some predictions"
      ]
    },
    {
      "cell_type": "code",
      "metadata": {
        "id": "rfAKpzgWo1r_",
        "colab_type": "code",
        "colab": {}
      },
      "source": [
        "decoded_imgs1 = autoencoder.predict(X_test_salt_pepper)\n",
        "n = 20\n",
        "plt.figure(figsize=(20, 4))\n",
        "for i in range(1,n):\n",
        "    # display original\n",
        "    ax = plt.subplot(2, n, i)\n",
        "    plt.imshow(X_test_salt_pepper[i].reshape(28, 28), cmap=plt.get_cmap('gray'), vmin=0, vmax=1)\n",
        "\n",
        "\n",
        "    # display reconstruction\n",
        "    ax = plt.subplot(2, n, i + n)\n",
        "    plt.imshow(decoded_imgs[i].reshape(28, 28), cmap=plt.get_cmap('gray'), vmin=0, vmax=1)\n",
        "   \n",
        "plt.show()"
      ],
      "execution_count": 0,
      "outputs": []
    },
    {
      "cell_type": "markdown",
      "metadata": {
        "id": "_WT18p5r7AHC",
        "colab_type": "text"
      },
      "source": [
        "<h2> 3-3 Training on dataset+ noise Speckle <h2>"
      ]
    },
    {
      "cell_type": "markdown",
      "metadata": {
        "id": "F5dHhT_VmuB5",
        "colab_type": "text"
      },
      "source": [
        "\n",
        "\n",
        "\n",
        "Same thing here. Let's start with presenting Speckle noise. <br>\n",
        "Speckle noise is defined as multiplicative noise, having a granular pattern it is the inherent property of SAR image. Synthetic Aperture Radar (SAR) imagery uses microwave radiation so that it can illuminate the earth surface. Synthetic Aperture Radar provides its own illumination."
      ]
    },
    {
      "cell_type": "code",
      "metadata": {
        "id": "tmxeji5-PO_E",
        "colab_type": "code",
        "colab": {}
      },
      "source": [
        "def speckle_noise(arr):\n",
        "      gauss = np.random.randn(784)      \n",
        "      noisy = arr + arr * gauss\n",
        "      return noisy"
      ],
      "execution_count": 0,
      "outputs": []
    },
    {
      "cell_type": "markdown",
      "metadata": {
        "id": "ZpCEAQZo7Y2V",
        "colab_type": "text"
      },
      "source": [
        "Add noise to dataset"
      ]
    },
    {
      "cell_type": "code",
      "metadata": {
        "id": "CR5KUZoNkqc6",
        "colab_type": "code",
        "colab": {}
      },
      "source": [
        "def prepare_data_speckle(data):\n",
        "  output = np.zeros(data.shape)\n",
        "  for i in range(len(data)):\n",
        "    output[i]=speckle_noise(data[i])\n",
        "    m=output[i].max()\n",
        "    output[i]=output[i]/m\n",
        "  return output"
      ],
      "execution_count": 0,
      "outputs": []
    },
    {
      "cell_type": "markdown",
      "metadata": {
        "id": "NOSZrdMu74he",
        "colab_type": "text"
      },
      "source": [
        "Prepare train and test"
      ]
    },
    {
      "cell_type": "code",
      "metadata": {
        "id": "ToAjGrLfk73H",
        "colab_type": "code",
        "colab": {}
      },
      "source": [
        "X_train_speckle=prepare_data_speckle(X_train)\n",
        "X_test_speckle=prepare_data_speckle(X_test)"
      ],
      "execution_count": 0,
      "outputs": []
    },
    {
      "cell_type": "markdown",
      "metadata": {
        "id": "TDQViqLs7iIu",
        "colab_type": "text"
      },
      "source": [
        "Plot some pictures showing the original and noisy images"
      ]
    },
    {
      "cell_type": "code",
      "metadata": {
        "id": "kggjTRmfl-a4",
        "colab_type": "code",
        "colab": {}
      },
      "source": [
        "plt.subplot(121)\n",
        "plt.imshow(X_train_speckle[0].reshape(28, 28), cmap=plt.get_cmap('gray'), vmin=0, vmax=1)\n",
        "plt.title(\"image with noise\")\n",
        " \n",
        " \n",
        "plt.subplot(122)\n",
        "plt.imshow(X_train[0].reshape(28, 28), cmap=plt.get_cmap('gray'), vmin=0, vmax=1)\n",
        "plt.title(\"Original image\")\n",
        "\n",
        "# Show the graph\n",
        "plt.show()"
      ],
      "execution_count": 0,
      "outputs": []
    },
    {
      "cell_type": "markdown",
      "metadata": {
        "id": "3hYjkbsA8IuS",
        "colab_type": "text"
      },
      "source": [
        "Train the model on the new data"
      ]
    },
    {
      "cell_type": "code",
      "metadata": {
        "id": "FZ3cqlGW3QFI",
        "colab_type": "code",
        "colab": {}
      },
      "source": [
        "checkpointer = ModelCheckpoint('/content/gdrive/My Drive/Colab Notebooks/checks_autoencoder_speckle/model-{epoch:02d}.hdf5', verbose=1)\n",
        "callbacks_list=[checkpointer]\n",
        "autoencoder.fit(X_train_speckle, X_train_speckle,\n",
        "                epochs=100,\n",
        "                batch_size=256,\n",
        "                shuffle=True,\n",
        "                validation_data=(X_test_speckle, X_test_speckle),\n",
        "                callbacks=callbacks_list)"
      ],
      "execution_count": 0,
      "outputs": []
    },
    {
      "cell_type": "markdown",
      "metadata": {
        "id": "svmxMO8v8T3F",
        "colab_type": "text"
      },
      "source": [
        "Plot training & validation loss values\n"
      ]
    },
    {
      "cell_type": "code",
      "metadata": {
        "id": "lMbG6r2UW5M5",
        "colab_type": "code",
        "colab": {}
      },
      "source": [
        "plt.plot(autoencoder.history.history['loss'])\n",
        "plt.plot(autoencoder.history.history['val_loss'])\n",
        "plt.title('Model+noise(speckle) loss')\n",
        "plt.ylabel('Loss')\n",
        "plt.xlabel('Epoch')\n",
        "plt.legend(['Train', 'Test'], loc='upper left')\n",
        "plt.show()"
      ],
      "execution_count": 0,
      "outputs": []
    },
    {
      "cell_type": "markdown",
      "metadata": {
        "id": "XaddtCb88YTk",
        "colab_type": "text"
      },
      "source": [
        "Try some predictions"
      ]
    },
    {
      "cell_type": "code",
      "metadata": {
        "id": "YiNxypLY8jLi",
        "colab_type": "code",
        "colab": {}
      },
      "source": [
        "decoded_imgs = autoencoder.predict(X_test_salt_pepper)\n",
        "n = 20\n",
        "plt.figure(figsize=(20, 4))\n",
        "for i in range(1,n):\n",
        "    # display original\n",
        "    ax = plt.subplot(2, n, i)\n",
        "    plt.imshow(X_test_salt_pepper[i].reshape(28, 28), cmap=plt.get_cmap('gray'), vmin=0, vmax=1)\n",
        "\n",
        "\n",
        "    # display reconstruction\n",
        "    ax = plt.subplot(2, n, i + n)\n",
        "    plt.imshow(decoded_imgs[i].reshape(28, 28), cmap=plt.get_cmap('gray'), vmin=0, vmax=1)\n",
        "   \n",
        "plt.show()"
      ],
      "execution_count": 0,
      "outputs": []
    }
  ]
}