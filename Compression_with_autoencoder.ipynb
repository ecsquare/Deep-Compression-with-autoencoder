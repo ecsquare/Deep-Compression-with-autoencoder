{
  "nbformat": 4,
  "nbformat_minor": 0,
  "metadata": {
    "colab": {
      "name": "Compression_with_autoencoder",
      "provenance": [],
      "collapsed_sections": [],
      "include_colab_link": true
    },
    "kernelspec": {
      "name": "python3",
      "display_name": "Python 3"
    },
    "accelerator": "GPU"
  },
  "cells": [
    {
      "cell_type": "markdown",
      "metadata": {
        "id": "view-in-github",
        "colab_type": "text"
      },
      "source": [
        "<a href=\"https://colab.research.google.com/github/ecsquare/Deep-Compression-with-autoencoder/blob/master/Compression_with_autoencoder.ipynb\" target=\"_parent\"><img src=\"https://colab.research.google.com/assets/colab-badge.svg\" alt=\"Open In Colab\"/></a>"
      ]
    },
    {
      "cell_type": "code",
      "metadata": {
        "id": "LYnLTdcU8pol",
        "colab_type": "code",
        "colab": {}
      },
      "source": [
        "import matplotlib.pyplot as plt\n",
        "%matplotlib inline\n",
        "import numpy as np\n",
        "import random"
      ],
      "execution_count": 0,
      "outputs": []
    },
    {
      "cell_type": "markdown",
      "metadata": {
        "id": "3RerPjmB83yP",
        "colab_type": "text"
      },
      "source": [
        "Load the MNIST Dataset"
      ]
    },
    {
      "cell_type": "code",
      "metadata": {
        "id": "FSF2lF5O8zoY",
        "colab_type": "code",
        "colab": {}
      },
      "source": [
        "from keras.datasets import mnist\n",
        "from keras.utils import np_utils\n",
        "(X_train, y_train), (X_test, y_test) = mnist.load_data()"
      ],
      "execution_count": 0,
      "outputs": []
    },
    {
      "cell_type": "code",
      "metadata": {
        "id": "iGcMttWK4CXd",
        "colab_type": "code",
        "colab": {
          "base_uri": "https://localhost:8080/",
          "height": 34
        },
        "outputId": "0b6597d9-a973-41c6-96fb-ef43759985fa"
      },
      "source": [
        "X_train.shape"
      ],
      "execution_count": 4,
      "outputs": [
        {
          "output_type": "execute_result",
          "data": {
            "text/plain": [
              "(60000, 28, 28)"
            ]
          },
          "metadata": {
            "tags": []
          },
          "execution_count": 4
        }
      ]
    },
    {
      "cell_type": "code",
      "metadata": {
        "id": "hPzKPx0r4FmU",
        "colab_type": "code",
        "colab": {
          "base_uri": "https://localhost:8080/",
          "height": 34
        },
        "outputId": "6d84c7da-5b20-4775-a6a8-87f752564fc6"
      },
      "source": [
        "X_test.shape"
      ],
      "execution_count": 5,
      "outputs": [
        {
          "output_type": "execute_result",
          "data": {
            "text/plain": [
              "(10000, 28, 28)"
            ]
          },
          "metadata": {
            "tags": []
          },
          "execution_count": 5
        }
      ]
    },
    {
      "cell_type": "code",
      "metadata": {
        "id": "2JySrJoQ9qCK",
        "colab_type": "code",
        "colab": {}
      },
      "source": [
        "X_train = X_train.reshape(60000, 784)\n",
        "X_test = X_test.reshape(10000, 784)\n",
        "X_train = X_train.astype(\"float32\")\n",
        "X_test = X_test.astype(\"float32\")\n",
        "# Normalisation\n",
        "X_train /= 255\n",
        "X_test /= 255"
      ],
      "execution_count": 0,
      "outputs": []
    },
    {
      "cell_type": "markdown",
      "metadata": {
        "id": "Zzxi5d3gVf-j",
        "colab_type": "text"
      },
      "source": [
        "<h1> 1.Salt&pepper noise </h1>\n",
        "Salt-and-pepper noise is a form of noise sometimes seen on images. It is also known as impulse noise. This noise can be caused by sharp and sudden disturbances in the image signal. It presents itself as sparsely occurring white and black pixels. An effective noise reduction method for this type of noise is a median filter or a morphological filter.For reducing either salt noise or pepper noise, but not both, a contraharmonic mean filter can be effective.\n",
        "\n"
      ]
    },
    {
      "cell_type": "code",
      "metadata": {
        "id": "k4kTlx9IVaQG",
        "colab_type": "code",
        "colab": {}
      },
      "source": [
        "def saltpepper_noise(arr,prob):\n",
        "    '''\n",
        "    Add salt and pepper noise to image\n",
        "    prob: Probability of the noise\n",
        "    '''\n",
        "    output = np.zeros(784)\n",
        "    thres = 1 - prob \n",
        "    for i in range(784):\n",
        "        rdn = random.random()\n",
        "        if rdn < prob:\n",
        "          output[i] = 0\n",
        "        elif rdn > thres:\n",
        "          output[i] = 1\n",
        "        else:\n",
        "          output[i] = arr[i]\n",
        "    return output"
      ],
      "execution_count": 0,
      "outputs": []
    },
    {
      "cell_type": "code",
      "metadata": {
        "id": "GcJunVHnYF_J",
        "colab_type": "code",
        "colab": {}
      },
      "source": [
        "a=sp_noise(X_train[0],0.2)"
      ],
      "execution_count": 0,
      "outputs": []
    },
    {
      "cell_type": "code",
      "metadata": {
        "id": "rvLiQUKGZ8EA",
        "colab_type": "code",
        "colab": {}
      },
      "source": [
        "def prepare_data_salt_pepper(data,prob):\n",
        "  output = np.zeros(data.shape)\n",
        "  for i in range(len(data)):\n",
        "    output[i]=saltpepper_noise(data[i],prob)\n",
        "  return output"
      ],
      "execution_count": 0,
      "outputs": []
    },
    {
      "cell_type": "code",
      "metadata": {
        "id": "dPEvVb7NbMMX",
        "colab_type": "code",
        "colab": {}
      },
      "source": [
        "X_train_salt_pepper=prepare_data_salt_pepper(X_train,0.01)\n",
        "X_test_salt_pepper=prepare_data_salt_pepper(X_test,0.01)"
      ],
      "execution_count": 0,
      "outputs": []
    },
    {
      "cell_type": "markdown",
      "metadata": {
        "id": "wUP8lcCPUv0T",
        "colab_type": "text"
      },
      "source": [
        "Let's see some dataset elements before and after noise \n"
      ]
    },
    {
      "cell_type": "code",
      "metadata": {
        "id": "3SqSmvT_ZbB5",
        "colab_type": "code",
        "colab": {
          "base_uri": "https://localhost:8080/",
          "height": 216
        },
        "outputId": "d2d239b9-fbdb-4f00-dcf9-953feebda091"
      },
      "source": [
        "plt.subplot(121)\n",
        "plt.imshow(X_train_salt_pepper[0].reshape(28, 28), cmap=plt.get_cmap('gray'), vmin=0, vmax=1)\n",
        "plt.title(\"image with noise\")\n",
        " \n",
        " \n",
        "plt.subplot(122)\n",
        "plt.imshow(X_train[0].reshape(28, 28), cmap=plt.get_cmap('gray'), vmin=0, vmax=1)\n",
        "plt.title(\"Original image\")\n",
        "\n",
        "# Show the graph\n",
        "plt.show()"
      ],
      "execution_count": 78,
      "outputs": [
        {
          "output_type": "display_data",
          "data": {
            "image/png": "[encoded data removed]",
            "text/plain": [
              "<Figure size 432x288 with 2 Axes>"
            ]
          },
          "metadata": {
            "tags": []
          }
        }
      ]
    },
    {
      "cell_type": "markdown",
      "metadata": {
        "id": "F5dHhT_VmuB5",
        "colab_type": "text"
      },
      "source": [
        "<h1> 2.Speckle noise </h1>\n",
        "Speckle noise is defined as multiplicative noise, having a granular pattern it is the inherent property of SAR image. Synthetic Aperture Radar (SAR) imagery uses microwave radiation so that it can illuminate the earth surface. Synthetic Aperture Radar provides its own illumination."
      ]
    },
    {
      "cell_type": "code",
      "metadata": {
        "id": "tmxeji5-PO_E",
        "colab_type": "code",
        "colab": {}
      },
      "source": [
        "def speckle_noise(arr):\n",
        "      gauss = np.random.randn(784)      \n",
        "      noisy = arr + arr * gauss\n",
        "      return noisy"
      ],
      "execution_count": 0,
      "outputs": []
    },
    {
      "cell_type": "code",
      "metadata": {
        "id": "FNTkeSYjhlfD",
        "colab_type": "code",
        "colab": {
          "base_uri": "https://localhost:8080/",
          "height": 282
        },
        "outputId": "004daa3f-c190-4bd3-99bb-3f4a684513f5"
      },
      "source": [
        "a=speckle_noise(X_train[0])\n",
        "plt.imshow(a.reshape(28, 28), cmap=plt.get_cmap('gray'), vmin=0, vmax=1)\n",
        "print(a.max())\n"
      ],
      "execution_count": 97,
      "outputs": [
        {
          "output_type": "stream",
          "text": [
            "3.8098192441612104\n"
          ],
          "name": "stdout"
        },
        {
          "output_type": "display_data",
          "data": {
            "image/png": "[encoded data removed]",
            "text/plain": [
              "<Figure size 432x288 with 1 Axes>"
            ]
          },
          "metadata": {
            "tags": []
          }
        }
      ]
    },
    {
      "cell_type": "code",
      "metadata": {
        "id": "CR5KUZoNkqc6",
        "colab_type": "code",
        "colab": {}
      },
      "source": [
        "def prepare_data_speckle(data):\n",
        "  output = np.zeros(data.shape)\n",
        "  for i in range(len(data)):\n",
        "    output[i]=speckle_noise(data[i])\n",
        "    m=output[i].max()\n",
        "    output[i]=output[i]/m\n",
        "  return output"
      ],
      "execution_count": 0,
      "outputs": []
    },
    {
      "cell_type": "code",
      "metadata": {
        "id": "ToAjGrLfk73H",
        "colab_type": "code",
        "colab": {}
      },
      "source": [
        "X_train_speckle=prepare_data_speckle(X_train)\n",
        "X_test_speckle=prepare_data_speckle(X_test)"
      ],
      "execution_count": 0,
      "outputs": []
    },
    {
      "cell_type": "code",
      "metadata": {
        "id": "kggjTRmfl-a4",
        "colab_type": "code",
        "colab": {
          "base_uri": "https://localhost:8080/",
          "height": 216
        },
        "outputId": "dac47c4f-b316-45bd-d636-04dacd8813ef"
      },
      "source": [
        "plt.subplot(121)\n",
        "plt.imshow(X_train_speckle[0].reshape(28, 28), cmap=plt.get_cmap('gray'), vmin=0, vmax=1)\n",
        "plt.title(\"image with noise\")\n",
        " \n",
        " \n",
        "plt.subplot(122)\n",
        "plt.imshow(X_train[0].reshape(28, 28), cmap=plt.get_cmap('gray'), vmin=0, vmax=1)\n",
        "plt.title(\"Original image\")\n",
        "\n",
        "# Show the graph\n",
        "plt.show()"
      ],
      "execution_count": 109,
      "outputs": [
        {
          "output_type": "display_data",
          "data": {
            "image/png": "[encoded data removed]",
            "text/plain": [
              "<Figure size 432x288 with 2 Axes>"
            ]
          },
          "metadata": {
            "tags": []
          }
        }
      ]
    },
    {
      "cell_type": "markdown",
      "metadata": {
        "id": "zZwLTk2PJut7",
        "colab_type": "text"
      },
      "source": [
        "<h1> 3.Build Deep autoencoder <h1>"
      ]
    },
    {
      "cell_type": "code",
      "metadata": {
        "id": "Bz-Nfqwh1HH-",
        "colab_type": "code",
        "colab": {}
      },
      "source": [
        "from keras.layers import Input, Dense\n",
        "from keras.models import Model\n",
        "from keras.callbacks import ModelCheckpoint"
      ],
      "execution_count": 0,
      "outputs": []
    },
    {
      "cell_type": "code",
      "metadata": {
        "id": "Z1KFCu47n8uz",
        "colab_type": "code",
        "colab": {}
      },
      "source": [
        "input_img = Input(shape=(784,))\n",
        "encoded = Dense(128, activation='relu')(input_img)\n",
        "encoded = Dense(64, activation='relu')(encoded)\n",
        "encoded = Dense(32, activation='relu')(encoded)\n",
        "decoded = Dense(64, activation='relu')(encoded)\n",
        "decoded = Dense(128, activation='relu')(decoded)\n",
        "decoded = Dense(784, activation='sigmoid')(decoded)"
      ],
      "execution_count": 0,
      "outputs": []
    },
    {
      "cell_type": "markdown",
      "metadata": {
        "id": "I1Y83EZT2BR4",
        "colab_type": "text"
      },
      "source": [
        "<h2> 3.1-Training on original dataset </h2>\n",
        "\n",
        "\n"
      ]
    },
    {
      "cell_type": "code",
      "metadata": {
        "id": "KF8zf56Yvoor",
        "colab_type": "code",
        "colab": {
          "base_uri": "https://localhost:8080/",
          "height": 124
        },
        "outputId": "362589bb-23e9-4307-80b4-54db9726d2d7"
      },
      "source": [
        "from google.colab import drive\n",
        "drive.mount('/content/gdrive')\n"
      ],
      "execution_count": 9,
      "outputs": [
        {
          "output_type": "stream",
          "text": [
            "Go to this URL in a browser: https://accounts.google.com/o/oauth2/auth?client_id=947318989803-6bn6qk8qdgf4n4g3pfee6491hc0brc4i.apps.googleusercontent.com&redirect_uri=urn%3aietf%3awg%3aoauth%3a2.0%3aoob&response_type=code&scope=email%20https%3a%2f%2fwww.googleapis.com%2fauth%2fdocs.test%20https%3a%2f%2fwww.googleapis.com%2fauth%2fdrive%20https%3a%2f%2fwww.googleapis.com%2fauth%2fdrive.photos.readonly%20https%3a%2f%2fwww.googleapis.com%2fauth%2fpeopleapi.readonly\n",
            "\n",
            "Enter your authorization code:\n",
            "··········\n",
            "Mounted at /content/gdrive\n"
          ],
          "name": "stdout"
        }
      ]
    },
    {
      "cell_type": "code",
      "metadata": {
        "id": "wua8Qd_ToUix",
        "colab_type": "code",
        "colab": {
          "base_uri": "https://localhost:8080/",
          "height": 1000
        },
        "outputId": "43f1d80d-03d3-442d-e076-292522f38e25"
      },
      "source": [
        "autoencoder = Model(input_img, decoded)\n",
        "autoencoder.compile(optimizer='adadelta', loss='binary_crossentropy')\n",
        "checkpointer = ModelCheckpoint('/content/gdrive/My Drive/Colab Notebooks/checks_autoencoder/model-{epoch:02d}.hdf5', verbose=1)\n",
        "callbacks_list=[checkpointer]\n",
        "autoencoder.fit(X_train, X_train,\n",
        "                epochs=100,\n",
        "                batch_size=256,\n",
        "                shuffle=True,\n",
        "                validation_data=(X_test, X_test),\n",
        "                callbacks=callbacks_list)\n",
        "\n"
      ],
      "execution_count": 12,
      "outputs": [
        {
          "output_type": "stream",
          "text": [
            "Train on 60000 samples, validate on 10000 samples\n",
            "Epoch 1/100\n",
            "60000/60000 [==============================] - 2s 30us/step - loss: 0.1061 - val_loss: 0.1052\n",
            "\n",
            "Epoch 00001: saving model to /content/gdrive/My Drive/Colab Notebooks/checks_autoencoder/model-01.hdf5\n",
            "Epoch 2/100\n",
            "60000/60000 [==============================] - 1s 23us/step - loss: 0.1057 - val_loss: 0.1061\n",
            "\n",
            "Epoch 00002: saving model to /content/gdrive/My Drive/Colab Notebooks/checks_autoencoder/model-02.hdf5\n",
            "Epoch 3/100\n",
            "60000/60000 [==============================] - 1s 23us/step - loss: 0.1055 - val_loss: 0.1046\n",
            "\n",
            "Epoch 00003: saving model to /content/gdrive/My Drive/Colab Notebooks/checks_autoencoder/model-03.hdf5\n",
            "Epoch 4/100\n",
            "60000/60000 [==============================] - 1s 23us/step - loss: 0.1053 - val_loss: 0.1047\n",
            "\n",
            "Epoch 00004: saving model to /content/gdrive/My Drive/Colab Notebooks/checks_autoencoder/model-04.hdf5\n",
            "Epoch 5/100\n",
            "60000/60000 [==============================] - 1s 23us/step - loss: 0.1048 - val_loss: 0.1055\n",
            "\n",
            "Epoch 00005: saving model to /content/gdrive/My Drive/Colab Notebooks/checks_autoencoder/model-05.hdf5\n",
            "Epoch 6/100\n",
            "60000/60000 [==============================] - 1s 22us/step - loss: 0.1047 - val_loss: 0.1037\n",
            "\n",
            "Epoch 00006: saving model to /content/gdrive/My Drive/Colab Notebooks/checks_autoencoder/model-06.hdf5\n",
            "Epoch 7/100\n",
            "60000/60000 [==============================] - 1s 23us/step - loss: 0.1044 - val_loss: 0.1039\n",
            "\n",
            "Epoch 00007: saving model to /content/gdrive/My Drive/Colab Notebooks/checks_autoencoder/model-07.hdf5\n",
            "Epoch 8/100\n",
            "60000/60000 [==============================] - 1s 23us/step - loss: 0.1042 - val_loss: 0.1038\n",
            "\n",
            "Epoch 00008: saving model to /content/gdrive/My Drive/Colab Notebooks/checks_autoencoder/model-08.hdf5\n",
            "Epoch 9/100\n",
            "60000/60000 [==============================] - 1s 23us/step - loss: 0.1038 - val_loss: 0.1031\n",
            "\n",
            "Epoch 00009: saving model to /content/gdrive/My Drive/Colab Notebooks/checks_autoencoder/model-09.hdf5\n",
            "Epoch 10/100\n",
            "60000/60000 [==============================] - 1s 23us/step - loss: 0.1035 - val_loss: 0.1028\n",
            "\n",
            "Epoch 00010: saving model to /content/gdrive/My Drive/Colab Notebooks/checks_autoencoder/model-10.hdf5\n",
            "Epoch 11/100\n",
            "60000/60000 [==============================] - 1s 22us/step - loss: 0.1034 - val_loss: 0.1027\n",
            "\n",
            "Epoch 00011: saving model to /content/gdrive/My Drive/Colab Notebooks/checks_autoencoder/model-11.hdf5\n",
            "Epoch 12/100\n",
            "60000/60000 [==============================] - 1s 24us/step - loss: 0.1032 - val_loss: 0.1024\n",
            "\n",
            "Epoch 00012: saving model to /content/gdrive/My Drive/Colab Notebooks/checks_autoencoder/model-12.hdf5\n",
            "Epoch 13/100\n",
            "60000/60000 [==============================] - 1s 23us/step - loss: 0.1029 - val_loss: 0.1018\n",
            "\n",
            "Epoch 00013: saving model to /content/gdrive/My Drive/Colab Notebooks/checks_autoencoder/model-13.hdf5\n",
            "Epoch 14/100\n",
            "60000/60000 [==============================] - 1s 23us/step - loss: 0.1027 - val_loss: 0.1010\n",
            "\n",
            "Epoch 00014: saving model to /content/gdrive/My Drive/Colab Notebooks/checks_autoencoder/model-14.hdf5\n",
            "Epoch 15/100\n",
            "60000/60000 [==============================] - 1s 23us/step - loss: 0.1024 - val_loss: 0.1018\n",
            "\n",
            "Epoch 00015: saving model to /content/gdrive/My Drive/Colab Notebooks/checks_autoencoder/model-15.hdf5\n",
            "Epoch 16/100\n",
            "60000/60000 [==============================] - 1s 24us/step - loss: 0.1021 - val_loss: 0.1008\n",
            "\n",
            "Epoch 00016: saving model to /content/gdrive/My Drive/Colab Notebooks/checks_autoencoder/model-16.hdf5\n",
            "Epoch 17/100\n",
            "60000/60000 [==============================] - 1s 23us/step - loss: 0.1021 - val_loss: 0.1020\n",
            "\n",
            "Epoch 00017: saving model to /content/gdrive/My Drive/Colab Notebooks/checks_autoencoder/model-17.hdf5\n",
            "Epoch 18/100\n",
            "60000/60000 [==============================] - 1s 23us/step - loss: 0.1018 - val_loss: 0.1007\n",
            "\n",
            "Epoch 00018: saving model to /content/gdrive/My Drive/Colab Notebooks/checks_autoencoder/model-18.hdf5\n",
            "Epoch 19/100\n",
            "60000/60000 [==============================] - 1s 24us/step - loss: 0.1016 - val_loss: 0.1005\n",
            "\n",
            "Epoch 00019: saving model to /content/gdrive/My Drive/Colab Notebooks/checks_autoencoder/model-19.hdf5\n",
            "Epoch 20/100\n",
            "60000/60000 [==============================] - 1s 23us/step - loss: 0.1015 - val_loss: 0.1008\n",
            "\n",
            "Epoch 00020: saving model to /content/gdrive/My Drive/Colab Notebooks/checks_autoencoder/model-20.hdf5\n",
            "Epoch 21/100\n",
            "60000/60000 [==============================] - 1s 22us/step - loss: 0.1012 - val_loss: 0.1007\n",
            "\n",
            "Epoch 00021: saving model to /content/gdrive/My Drive/Colab Notebooks/checks_autoencoder/model-21.hdf5\n",
            "Epoch 22/100\n",
            "60000/60000 [==============================] - 1s 22us/step - loss: 0.1010 - val_loss: 0.1002\n",
            "\n",
            "Epoch 00022: saving model to /content/gdrive/My Drive/Colab Notebooks/checks_autoencoder/model-22.hdf5\n",
            "Epoch 23/100\n",
            "60000/60000 [==============================] - 1s 22us/step - loss: 0.1009 - val_loss: 0.1003\n",
            "\n",
            "Epoch 00023: saving model to /content/gdrive/My Drive/Colab Notebooks/checks_autoencoder/model-23.hdf5\n",
            "Epoch 24/100\n",
            "60000/60000 [==============================] - 1s 23us/step - loss: 0.1007 - val_loss: 0.0996\n",
            "\n",
            "Epoch 00024: saving model to /content/gdrive/My Drive/Colab Notebooks/checks_autoencoder/model-24.hdf5\n",
            "Epoch 25/100\n",
            "60000/60000 [==============================] - 1s 23us/step - loss: 0.1005 - val_loss: 0.0993\n",
            "\n",
            "Epoch 00025: saving model to /content/gdrive/My Drive/Colab Notebooks/checks_autoencoder/model-25.hdf5\n",
            "Epoch 26/100\n",
            "60000/60000 [==============================] - 1s 23us/step - loss: 0.1003 - val_loss: 0.0990\n",
            "\n",
            "Epoch 00026: saving model to /content/gdrive/My Drive/Colab Notebooks/checks_autoencoder/model-26.hdf5\n",
            "Epoch 27/100\n",
            "60000/60000 [==============================] - 1s 23us/step - loss: 0.1001 - val_loss: 0.0995\n",
            "\n",
            "Epoch 00027: saving model to /content/gdrive/My Drive/Colab Notebooks/checks_autoencoder/model-27.hdf5\n",
            "Epoch 28/100\n",
            "60000/60000 [==============================] - 1s 23us/step - loss: 0.1000 - val_loss: 0.0993\n",
            "\n",
            "Epoch 00028: saving model to /content/gdrive/My Drive/Colab Notebooks/checks_autoencoder/model-28.hdf5\n",
            "Epoch 29/100\n",
            "60000/60000 [==============================] - 1s 23us/step - loss: 0.0998 - val_loss: 0.1003\n",
            "\n",
            "Epoch 00029: saving model to /content/gdrive/My Drive/Colab Notebooks/checks_autoencoder/model-29.hdf5\n",
            "Epoch 30/100\n",
            "60000/60000 [==============================] - 1s 23us/step - loss: 0.0997 - val_loss: 0.1003\n",
            "\n",
            "Epoch 00030: saving model to /content/gdrive/My Drive/Colab Notebooks/checks_autoencoder/model-30.hdf5\n",
            "Epoch 31/100\n",
            "60000/60000 [==============================] - 1s 23us/step - loss: 0.0994 - val_loss: 0.0994\n",
            "\n",
            "Epoch 00031: saving model to /content/gdrive/My Drive/Colab Notebooks/checks_autoencoder/model-31.hdf5\n",
            "Epoch 32/100\n",
            "60000/60000 [==============================] - 1s 23us/step - loss: 0.0993 - val_loss: 0.0986\n",
            "\n",
            "Epoch 00032: saving model to /content/gdrive/My Drive/Colab Notebooks/checks_autoencoder/model-32.hdf5\n",
            "Epoch 33/100\n",
            "60000/60000 [==============================] - 1s 22us/step - loss: 0.0990 - val_loss: 0.0981\n",
            "\n",
            "Epoch 00033: saving model to /content/gdrive/My Drive/Colab Notebooks/checks_autoencoder/model-33.hdf5\n",
            "Epoch 34/100\n",
            "60000/60000 [==============================] - 1s 24us/step - loss: 0.0991 - val_loss: 0.0982\n",
            "\n",
            "Epoch 00034: saving model to /content/gdrive/My Drive/Colab Notebooks/checks_autoencoder/model-34.hdf5\n",
            "Epoch 35/100\n",
            "60000/60000 [==============================] - 1s 22us/step - loss: 0.0989 - val_loss: 0.0977\n",
            "\n",
            "Epoch 00035: saving model to /content/gdrive/My Drive/Colab Notebooks/checks_autoencoder/model-35.hdf5\n",
            "Epoch 36/100\n",
            "60000/60000 [==============================] - 1s 23us/step - loss: 0.0988 - val_loss: 0.0987\n",
            "\n",
            "Epoch 00036: saving model to /content/gdrive/My Drive/Colab Notebooks/checks_autoencoder/model-36.hdf5\n",
            "Epoch 37/100\n",
            "60000/60000 [==============================] - 1s 22us/step - loss: 0.0986 - val_loss: 0.0967\n",
            "\n",
            "Epoch 00037: saving model to /content/gdrive/My Drive/Colab Notebooks/checks_autoencoder/model-37.hdf5\n",
            "Epoch 38/100\n",
            "60000/60000 [==============================] - 1s 23us/step - loss: 0.0985 - val_loss: 0.0968\n",
            "\n",
            "Epoch 00038: saving model to /content/gdrive/My Drive/Colab Notebooks/checks_autoencoder/model-38.hdf5\n",
            "Epoch 39/100\n",
            "60000/60000 [==============================] - 1s 23us/step - loss: 0.0984 - val_loss: 0.0984\n",
            "\n",
            "Epoch 00039: saving model to /content/gdrive/My Drive/Colab Notebooks/checks_autoencoder/model-39.hdf5\n",
            "Epoch 40/100\n",
            "60000/60000 [==============================] - 1s 23us/step - loss: 0.0982 - val_loss: 0.0985\n",
            "\n",
            "Epoch 00040: saving model to /content/gdrive/My Drive/Colab Notebooks/checks_autoencoder/model-40.hdf5\n",
            "Epoch 41/100\n",
            "60000/60000 [==============================] - 1s 24us/step - loss: 0.0981 - val_loss: 0.0978\n",
            "\n",
            "Epoch 00041: saving model to /content/gdrive/My Drive/Colab Notebooks/checks_autoencoder/model-41.hdf5\n",
            "Epoch 42/100\n",
            "60000/60000 [==============================] - 1s 23us/step - loss: 0.0980 - val_loss: 0.0980\n",
            "\n",
            "Epoch 00042: saving model to /content/gdrive/My Drive/Colab Notebooks/checks_autoencoder/model-42.hdf5\n",
            "Epoch 43/100\n",
            "60000/60000 [==============================] - 1s 23us/step - loss: 0.0979 - val_loss: 0.0967\n",
            "\n",
            "Epoch 00043: saving model to /content/gdrive/My Drive/Colab Notebooks/checks_autoencoder/model-43.hdf5\n",
            "Epoch 44/100\n",
            "60000/60000 [==============================] - 1s 23us/step - loss: 0.0977 - val_loss: 0.0978\n",
            "\n",
            "Epoch 00044: saving model to /content/gdrive/My Drive/Colab Notebooks/checks_autoencoder/model-44.hdf5\n",
            "Epoch 45/100\n",
            "60000/60000 [==============================] - 1s 22us/step - loss: 0.0976 - val_loss: 0.0974\n",
            "\n",
            "Epoch 00045: saving model to /content/gdrive/My Drive/Colab Notebooks/checks_autoencoder/model-45.hdf5\n",
            "Epoch 46/100\n",
            "60000/60000 [==============================] - 1s 23us/step - loss: 0.0975 - val_loss: 0.0982\n",
            "\n",
            "Epoch 00046: saving model to /content/gdrive/My Drive/Colab Notebooks/checks_autoencoder/model-46.hdf5\n",
            "Epoch 47/100\n",
            "60000/60000 [==============================] - 1s 24us/step - loss: 0.0974 - val_loss: 0.0963\n",
            "\n",
            "Epoch 00047: saving model to /content/gdrive/My Drive/Colab Notebooks/checks_autoencoder/model-47.hdf5\n",
            "Epoch 48/100\n",
            "60000/60000 [==============================] - 1s 23us/step - loss: 0.0973 - val_loss: 0.0962\n",
            "\n",
            "Epoch 00048: saving model to /content/gdrive/My Drive/Colab Notebooks/checks_autoencoder/model-48.hdf5\n",
            "Epoch 49/100\n",
            "60000/60000 [==============================] - 1s 23us/step - loss: 0.0971 - val_loss: 0.0951\n",
            "\n",
            "Epoch 00049: saving model to /content/gdrive/My Drive/Colab Notebooks/checks_autoencoder/model-49.hdf5\n",
            "Epoch 50/100\n",
            "60000/60000 [==============================] - 1s 22us/step - loss: 0.0970 - val_loss: 0.0973\n",
            "\n",
            "Epoch 00050: saving model to /content/gdrive/My Drive/Colab Notebooks/checks_autoencoder/model-50.hdf5\n",
            "Epoch 51/100\n",
            "60000/60000 [==============================] - 1s 23us/step - loss: 0.0970 - val_loss: 0.0963\n",
            "\n",
            "Epoch 00051: saving model to /content/gdrive/My Drive/Colab Notebooks/checks_autoencoder/model-51.hdf5\n",
            "Epoch 52/100\n",
            "60000/60000 [==============================] - 1s 22us/step - loss: 0.0967 - val_loss: 0.0967\n",
            "\n",
            "Epoch 00052: saving model to /content/gdrive/My Drive/Colab Notebooks/checks_autoencoder/model-52.hdf5\n",
            "Epoch 53/100\n",
            "60000/60000 [==============================] - 1s 23us/step - loss: 0.0967 - val_loss: 0.0968\n",
            "\n",
            "Epoch 00053: saving model to /content/gdrive/My Drive/Colab Notebooks/checks_autoencoder/model-53.hdf5\n",
            "Epoch 54/100\n",
            "60000/60000 [==============================] - 1s 23us/step - loss: 0.0966 - val_loss: 0.0952\n",
            "\n",
            "Epoch 00054: saving model to /content/gdrive/My Drive/Colab Notebooks/checks_autoencoder/model-54.hdf5\n",
            "Epoch 55/100\n",
            "60000/60000 [==============================] - 1s 22us/step - loss: 0.0966 - val_loss: 0.0964\n",
            "\n",
            "Epoch 00055: saving model to /content/gdrive/My Drive/Colab Notebooks/checks_autoencoder/model-55.hdf5\n",
            "Epoch 56/100\n",
            "60000/60000 [==============================] - 1s 24us/step - loss: 0.0964 - val_loss: 0.0959\n",
            "\n",
            "Epoch 00056: saving model to /content/gdrive/My Drive/Colab Notebooks/checks_autoencoder/model-56.hdf5\n",
            "Epoch 57/100\n",
            "60000/60000 [==============================] - 1s 23us/step - loss: 0.0964 - val_loss: 0.0981\n",
            "\n",
            "Epoch 00057: saving model to /content/gdrive/My Drive/Colab Notebooks/checks_autoencoder/model-57.hdf5\n",
            "Epoch 58/100\n",
            "60000/60000 [==============================] - 1s 23us/step - loss: 0.0962 - val_loss: 0.0965\n",
            "\n",
            "Epoch 00058: saving model to /content/gdrive/My Drive/Colab Notebooks/checks_autoencoder/model-58.hdf5\n",
            "Epoch 59/100\n",
            "60000/60000 [==============================] - 1s 22us/step - loss: 0.0962 - val_loss: 0.0961\n",
            "\n",
            "Epoch 00059: saving model to /content/gdrive/My Drive/Colab Notebooks/checks_autoencoder/model-59.hdf5\n",
            "Epoch 60/100\n",
            "60000/60000 [==============================] - 1s 22us/step - loss: 0.0960 - val_loss: 0.0952\n",
            "\n",
            "Epoch 00060: saving model to /content/gdrive/My Drive/Colab Notebooks/checks_autoencoder/model-60.hdf5\n",
            "Epoch 61/100\n",
            "60000/60000 [==============================] - 1s 23us/step - loss: 0.0960 - val_loss: 0.0946\n",
            "\n",
            "Epoch 00061: saving model to /content/gdrive/My Drive/Colab Notebooks/checks_autoencoder/model-61.hdf5\n",
            "Epoch 62/100\n",
            "60000/60000 [==============================] - 1s 23us/step - loss: 0.0959 - val_loss: 0.0952\n",
            "\n",
            "Epoch 00062: saving model to /content/gdrive/My Drive/Colab Notebooks/checks_autoencoder/model-62.hdf5\n",
            "Epoch 63/100\n",
            "60000/60000 [==============================] - 1s 22us/step - loss: 0.0958 - val_loss: 0.0941\n",
            "\n",
            "Epoch 00063: saving model to /content/gdrive/My Drive/Colab Notebooks/checks_autoencoder/model-63.hdf5\n",
            "Epoch 64/100\n",
            "60000/60000 [==============================] - 1s 23us/step - loss: 0.0956 - val_loss: 0.0951\n",
            "\n",
            "Epoch 00064: saving model to /content/gdrive/My Drive/Colab Notebooks/checks_autoencoder/model-64.hdf5\n",
            "Epoch 65/100\n",
            "60000/60000 [==============================] - 1s 23us/step - loss: 0.0955 - val_loss: 0.0937\n",
            "\n",
            "Epoch 00065: saving model to /content/gdrive/My Drive/Colab Notebooks/checks_autoencoder/model-65.hdf5\n",
            "Epoch 66/100\n",
            "60000/60000 [==============================] - 1s 23us/step - loss: 0.0955 - val_loss: 0.0941\n",
            "\n",
            "Epoch 00066: saving model to /content/gdrive/My Drive/Colab Notebooks/checks_autoencoder/model-66.hdf5\n",
            "Epoch 67/100\n",
            "60000/60000 [==============================] - 1s 24us/step - loss: 0.0954 - val_loss: 0.0957\n",
            "\n",
            "Epoch 00067: saving model to /content/gdrive/My Drive/Colab Notebooks/checks_autoencoder/model-67.hdf5\n",
            "Epoch 68/100\n",
            "60000/60000 [==============================] - 1s 22us/step - loss: 0.0953 - val_loss: 0.0941\n",
            "\n",
            "Epoch 00068: saving model to /content/gdrive/My Drive/Colab Notebooks/checks_autoencoder/model-68.hdf5\n",
            "Epoch 69/100\n",
            "60000/60000 [==============================] - 1s 22us/step - loss: 0.0951 - val_loss: 0.0940\n",
            "\n",
            "Epoch 00069: saving model to /content/gdrive/My Drive/Colab Notebooks/checks_autoencoder/model-69.hdf5\n",
            "Epoch 70/100\n",
            "60000/60000 [==============================] - 1s 22us/step - loss: 0.0952 - val_loss: 0.0944\n",
            "\n",
            "Epoch 00070: saving model to /content/gdrive/My Drive/Colab Notebooks/checks_autoencoder/model-70.hdf5\n",
            "Epoch 71/100\n",
            "60000/60000 [==============================] - 1s 23us/step - loss: 0.0950 - val_loss: 0.0942\n",
            "\n",
            "Epoch 00071: saving model to /content/gdrive/My Drive/Colab Notebooks/checks_autoencoder/model-71.hdf5\n",
            "Epoch 72/100\n",
            "60000/60000 [==============================] - 1s 23us/step - loss: 0.0949 - val_loss: 0.0936\n",
            "\n",
            "Epoch 00072: saving model to /content/gdrive/My Drive/Colab Notebooks/checks_autoencoder/model-72.hdf5\n",
            "Epoch 73/100\n",
            "60000/60000 [==============================] - 1s 23us/step - loss: 0.0950 - val_loss: 0.0945\n",
            "\n",
            "Epoch 00073: saving model to /content/gdrive/My Drive/Colab Notebooks/checks_autoencoder/model-73.hdf5\n",
            "Epoch 74/100\n",
            "60000/60000 [==============================] - 1s 22us/step - loss: 0.0947 - val_loss: 0.0944\n",
            "\n",
            "Epoch 00074: saving model to /content/gdrive/My Drive/Colab Notebooks/checks_autoencoder/model-74.hdf5\n",
            "Epoch 75/100\n",
            "60000/60000 [==============================] - 1s 22us/step - loss: 0.0948 - val_loss: 0.0929\n",
            "\n",
            "Epoch 00075: saving model to /content/gdrive/My Drive/Colab Notebooks/checks_autoencoder/model-75.hdf5\n",
            "Epoch 76/100\n",
            "60000/60000 [==============================] - 1s 22us/step - loss: 0.0946 - val_loss: 0.0940\n",
            "\n",
            "Epoch 00076: saving model to /content/gdrive/My Drive/Colab Notebooks/checks_autoencoder/model-76.hdf5\n",
            "Epoch 77/100\n",
            "60000/60000 [==============================] - 1s 22us/step - loss: 0.0946 - val_loss: 0.0944\n",
            "\n",
            "Epoch 00077: saving model to /content/gdrive/My Drive/Colab Notebooks/checks_autoencoder/model-77.hdf5\n",
            "Epoch 78/100\n",
            "60000/60000 [==============================] - 1s 22us/step - loss: 0.0944 - val_loss: 0.0941\n",
            "\n",
            "Epoch 00078: saving model to /content/gdrive/My Drive/Colab Notebooks/checks_autoencoder/model-78.hdf5\n",
            "Epoch 79/100\n",
            "60000/60000 [==============================] - 1s 24us/step - loss: 0.0944 - val_loss: 0.0930\n",
            "\n",
            "Epoch 00079: saving model to /content/gdrive/My Drive/Colab Notebooks/checks_autoencoder/model-79.hdf5\n",
            "Epoch 80/100\n",
            "60000/60000 [==============================] - 1s 22us/step - loss: 0.0944 - val_loss: 0.0927\n",
            "\n",
            "Epoch 00080: saving model to /content/gdrive/My Drive/Colab Notebooks/checks_autoencoder/model-80.hdf5\n",
            "Epoch 81/100\n",
            "60000/60000 [==============================] - 1s 23us/step - loss: 0.0943 - val_loss: 0.0936\n",
            "\n",
            "Epoch 00081: saving model to /content/gdrive/My Drive/Colab Notebooks/checks_autoencoder/model-81.hdf5\n",
            "Epoch 82/100\n",
            "60000/60000 [==============================] - 1s 22us/step - loss: 0.0942 - val_loss: 0.0933\n",
            "\n",
            "Epoch 00082: saving model to /content/gdrive/My Drive/Colab Notebooks/checks_autoencoder/model-82.hdf5\n",
            "Epoch 83/100\n",
            "60000/60000 [==============================] - 1s 22us/step - loss: 0.0941 - val_loss: 0.0953\n",
            "\n",
            "Epoch 00083: saving model to /content/gdrive/My Drive/Colab Notebooks/checks_autoencoder/model-83.hdf5\n",
            "Epoch 84/100\n",
            "60000/60000 [==============================] - 1s 23us/step - loss: 0.0940 - val_loss: 0.0933\n",
            "\n",
            "Epoch 00084: saving model to /content/gdrive/My Drive/Colab Notebooks/checks_autoencoder/model-84.hdf5\n",
            "Epoch 85/100\n",
            "60000/60000 [==============================] - 1s 23us/step - loss: 0.0940 - val_loss: 0.0947\n",
            "\n",
            "Epoch 00085: saving model to /content/gdrive/My Drive/Colab Notebooks/checks_autoencoder/model-85.hdf5\n",
            "Epoch 86/100\n",
            "60000/60000 [==============================] - 1s 23us/step - loss: 0.0939 - val_loss: 0.0932\n",
            "\n",
            "Epoch 00086: saving model to /content/gdrive/My Drive/Colab Notebooks/checks_autoencoder/model-86.hdf5\n",
            "Epoch 87/100\n",
            "60000/60000 [==============================] - 1s 22us/step - loss: 0.0937 - val_loss: 0.0922\n",
            "\n",
            "Epoch 00087: saving model to /content/gdrive/My Drive/Colab Notebooks/checks_autoencoder/model-87.hdf5\n",
            "Epoch 88/100\n",
            "60000/60000 [==============================] - 1s 22us/step - loss: 0.0938 - val_loss: 0.0938\n",
            "\n",
            "Epoch 00088: saving model to /content/gdrive/My Drive/Colab Notebooks/checks_autoencoder/model-88.hdf5\n",
            "Epoch 89/100\n",
            "60000/60000 [==============================] - 1s 21us/step - loss: 0.0936 - val_loss: 0.0933\n",
            "\n",
            "Epoch 00089: saving model to /content/gdrive/My Drive/Colab Notebooks/checks_autoencoder/model-89.hdf5\n",
            "Epoch 90/100\n",
            "60000/60000 [==============================] - 1s 22us/step - loss: 0.0936 - val_loss: 0.0933\n",
            "\n",
            "Epoch 00090: saving model to /content/gdrive/My Drive/Colab Notebooks/checks_autoencoder/model-90.hdf5\n",
            "Epoch 91/100\n",
            "60000/60000 [==============================] - 1s 22us/step - loss: 0.0935 - val_loss: 0.0922\n",
            "\n",
            "Epoch 00091: saving model to /content/gdrive/My Drive/Colab Notebooks/checks_autoencoder/model-91.hdf5\n",
            "Epoch 92/100\n",
            "60000/60000 [==============================] - 1s 22us/step - loss: 0.0934 - val_loss: 0.0933\n",
            "\n",
            "Epoch 00092: saving model to /content/gdrive/My Drive/Colab Notebooks/checks_autoencoder/model-92.hdf5\n",
            "Epoch 93/100\n",
            "60000/60000 [==============================] - 1s 23us/step - loss: 0.0934 - val_loss: 0.0926\n",
            "\n",
            "Epoch 00093: saving model to /content/gdrive/My Drive/Colab Notebooks/checks_autoencoder/model-93.hdf5\n",
            "Epoch 94/100\n",
            "60000/60000 [==============================] - 1s 23us/step - loss: 0.0933 - val_loss: 0.0923\n",
            "\n",
            "Epoch 00094: saving model to /content/gdrive/My Drive/Colab Notebooks/checks_autoencoder/model-94.hdf5\n",
            "Epoch 95/100\n",
            "60000/60000 [==============================] - 1s 22us/step - loss: 0.0933 - val_loss: 0.0942\n",
            "\n",
            "Epoch 00095: saving model to /content/gdrive/My Drive/Colab Notebooks/checks_autoencoder/model-95.hdf5\n",
            "Epoch 96/100\n",
            "60000/60000 [==============================] - 1s 22us/step - loss: 0.0932 - val_loss: 0.0923\n",
            "\n",
            "Epoch 00096: saving model to /content/gdrive/My Drive/Colab Notebooks/checks_autoencoder/model-96.hdf5\n",
            "Epoch 97/100\n",
            "60000/60000 [==============================] - 1s 22us/step - loss: 0.0931 - val_loss: 0.0931\n",
            "\n",
            "Epoch 00097: saving model to /content/gdrive/My Drive/Colab Notebooks/checks_autoencoder/model-97.hdf5\n",
            "Epoch 98/100\n",
            "60000/60000 [==============================] - 1s 22us/step - loss: 0.0931 - val_loss: 0.0921\n",
            "\n",
            "Epoch 00098: saving model to /content/gdrive/My Drive/Colab Notebooks/checks_autoencoder/model-98.hdf5\n",
            "Epoch 99/100\n",
            "60000/60000 [==============================] - 1s 22us/step - loss: 0.0930 - val_loss: 0.0920\n",
            "\n",
            "Epoch 00099: saving model to /content/gdrive/My Drive/Colab Notebooks/checks_autoencoder/model-99.hdf5\n",
            "Epoch 100/100\n",
            "60000/60000 [==============================] - 1s 22us/step - loss: 0.0929 - val_loss: 0.0933\n",
            "\n",
            "Epoch 00100: saving model to /content/gdrive/My Drive/Colab Notebooks/checks_autoencoder/model-100.hdf5\n"
          ],
          "name": "stdout"
        },
        {
          "output_type": "execute_result",
          "data": {
            "text/plain": [
              "<keras.callbacks.History at 0x7fcd1fd7a470>"
            ]
          },
          "metadata": {
            "tags": []
          },
          "execution_count": 12
        }
      ]
    },
    {
      "cell_type": "code",
      "metadata": {
        "id": "XBEWCvWZKZWP",
        "colab_type": "code",
        "colab": {
          "base_uri": "https://localhost:8080/",
          "height": 661
        },
        "outputId": "fe55f952-46c0-4af2-c447-2ae15adbc98f"
      },
      "source": [
        "from keras.utils import plot_model\n",
        "plot_model(autoencoder, to_file='model.png')"
      ],
      "execution_count": 13,
      "outputs": [
        {
          "output_type": "execute_result",
          "data": {
            "image/png": "[encoded data removed]",
            "text/plain": [
              "<IPython.core.display.Image object>"
            ]
          },
          "metadata": {
            "tags": []
          },
          "execution_count": 13
        }
      ]
    },
    {
      "cell_type": "code",
      "metadata": {
        "id": "yXQ-PGRSKhPw",
        "colab_type": "code",
        "colab": {
          "base_uri": "https://localhost:8080/",
          "height": 295
        },
        "outputId": "653ba36a-09f9-478e-e453-5a487f620c35"
      },
      "source": [
        "\n",
        "# Plot training & validation loss values\n",
        "plt.plot(autoencoder.history.history['loss'])\n",
        "plt.plot(autoencoder.history.history['val_loss'])\n",
        "plt.title('Model loss')\n",
        "plt.ylabel('Loss')\n",
        "plt.xlabel('Epoch')\n",
        "plt.legend(['Train', 'Test'], loc='upper left')\n",
        "plt.show()\n"
      ],
      "execution_count": 14,
      "outputs": [
        {
          "output_type": "display_data",
          "data": {
            "image/png": "[encoded data removed]",
            "text/plain": [
              "<Figure size 432x288 with 1 Axes>"
            ]
          },
          "metadata": {
            "tags": []
          }
        }
      ]
    },
    {
      "cell_type": "code",
      "metadata": {
        "id": "rfAKpzgWo1r_",
        "colab_type": "code",
        "colab": {
          "base_uri": "https://localhost:8080/",
          "height": 263
        },
        "outputId": "4e12f01e-2f4d-460f-b925-f18786e81495"
      },
      "source": [
        "decoded_imgs = autoencoder.predict(X_test)\n",
        "\n",
        "n = 10\n",
        "plt.figure(figsize=(20, 4))\n",
        "for i in range(1,n):\n",
        "    # display original\n",
        "    ax = plt.subplot(2, n, i)\n",
        "    plt.imshow(X_test[i].reshape(28, 28), cmap=plt.get_cmap('gray'), vmin=0, vmax=1)\n",
        "\n",
        "\n",
        "    # display reconstruction\n",
        "    ax = plt.subplot(2, n, i + n)\n",
        "    plt.imshow(decoded_imgs[i].reshape(28, 28), cmap=plt.get_cmap('gray'), vmin=0, vmax=1)\n",
        "   \n",
        "plt.show()"
      ],
      "execution_count": 17,
      "outputs": [
        {
          "output_type": "display_data",
          "data": {
            "image/png": "[encoded data removed]",
            "text/plain": [
              "<Figure size 1440x288 with 18 Axes>"
            ]
          },
          "metadata": {
            "tags": []
          }
        }
      ]
    },
    {
      "cell_type": "markdown",
      "metadata": {
        "id": "klBwwTKL2myi",
        "colab_type": "text"
      },
      "source": [
        "<h2> 3.2-Training on noisy dataset(salt&pepper)</h2>\n"
      ]
    },
    {
      "cell_type": "code",
      "metadata": {
        "id": "sWFi6P6lvunE",
        "colab_type": "code",
        "colab": {}
      },
      "source": [
        "autoencoder_salt_pepper = Model(input_img, decoded)\n",
        "autoencoder_salt_pepper.compile(optimizer='adadelta', loss='binary_crossentropy')\n",
        "checkpointer = ModelCheckpoint('/content/gdrive/My Drive/Colab Notebooks/checks_autoencoder_salt_pepper/model-{epoch:02d}.hdf5', verbose=1)\n",
        "callbacks_list=[checkpointer]\n",
        "autoencoder.fit(X_train_salt_pepper, X_train_salt_pepper,\n",
        "                epochs=100,\n",
        "                batch_size=256,\n",
        "                shuffle=True,\n",
        "                validation_data=(X_test_salt_pepper, X_test_salt_pepper),\n",
        "                callbacks=callbacks_list)\n"
      ],
      "execution_count": 0,
      "outputs": []
    },
    {
      "cell_type": "code",
      "metadata": {
        "id": "rMtF1pCs5cDc",
        "colab_type": "code",
        "colab": {}
      },
      "source": [
        "decoded_imgs2 = autoencoder_salt_pepper.predict(X_test_salt_pepper)\n",
        "\n",
        "n = 10\n",
        "plt.figure(figsize=(20, 4))\n",
        "for i in range(1,n):\n",
        "    # display original\n",
        "    ax = plt.subplot(2, n, i)\n",
        "    plt.imshow(X_test_salt_pepper[i].reshape(28, 28), cmap=plt.get_cmap('gray'), vmin=0, vmax=1)\n",
        "\n",
        "\n",
        "    # display reconstruction\n",
        "    ax = plt.subplot(2, n, i + n)\n",
        "    plt.imshow(X_train_salt_pepper[0].reshape(28, 28), cmap=plt.get_cmap('gray'), vmin=0, vmax=1)\n",
        "   \n",
        "plt.show()"
      ],
      "execution_count": 0,
      "outputs": []
    },
    {
      "cell_type": "markdown",
      "metadata": {
        "id": "B3QdYjVn2u1S",
        "colab_type": "text"
      },
      "source": [
        "<h2> 3.3-Training on noisy dataset (speckle) </h2>\n"
      ]
    },
    {
      "cell_type": "code",
      "metadata": {
        "id": "FZ3cqlGW3QFI",
        "colab_type": "code",
        "colab": {}
      },
      "source": [
        "autoencoder_salt_pepper = Model(input_img, decoded)\n",
        "autoencoder_salt_pepper.compile(optimizer='adadelta', loss='binary_crossentropy')\n",
        "checkpointer = ModelCheckpoint('/content/gdrive/My Drive/Colab Notebooks/checks_autoencoder_salt_pepper/model-{epoch:02d}.hdf5', verbose=1)\n",
        "callbacks_list=[checkpointer]\n",
        "autoencoder.fit(X_train_salt_pepper, X_train_salt_pepper,\n",
        "                epochs=100,\n",
        "                batch_size=256,\n",
        "                shuffle=True,\n",
        "                validation_data=(X_test_salt_pepper, X_test_salt_pepper),\n",
        "                callbacks=callbacks_list)"
      ],
      "execution_count": 0,
      "outputs": []
    }
  ]
}